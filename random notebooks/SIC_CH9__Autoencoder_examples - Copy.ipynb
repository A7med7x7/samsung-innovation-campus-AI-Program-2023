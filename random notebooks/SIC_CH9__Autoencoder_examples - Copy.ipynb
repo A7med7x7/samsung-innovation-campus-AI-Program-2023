{
  "cells": [
    {
      "cell_type": "code",
      "execution_count": 1,
      "metadata": {
        "id": "DTx2WHBdDuC1"
      },
      "outputs": [],
      "source": [
        "#!pip install tensorflow-gpu==2.0.0b1\n",
        "from tensorflow.keras.datasets import mnist\n",
        "from tensorflow.keras.layers import Dense, Input, Flatten,\\\n",
        "                                    Reshape, LeakyReLU as LR,\\\n",
        "                                    Activation, Dropout\n",
        "from tensorflow.keras.models import Model, Sequential\n",
        "from matplotlib import pyplot as plt\n",
        "from IPython import display # If using IPython, Colab or Jupyter\n",
        "import numpy as np"
      ]
    },
    {
      "cell_type": "code",
      "execution_count": 2,
      "metadata": {
        "colab": {
          "base_uri": "https://localhost:8080/",
          "height": 300
        },
        "id": "L0XybKJyEJIR",
        "outputId": "16d91b95-ba6e-4692-d16a-61c4c491c8e0"
      },
      "outputs": [
        {
          "data": {
            "image/png": "[encoded data removed]",
            "text/plain": [
              "<Figure size 640x480 with 1 Axes>"
            ]
          },
          "metadata": {},
          "output_type": "display_data"
        }
      ],
      "source": [
        "(x_train, y_train), (x_test, y_test) = mnist.load_data()\n",
        "x_train = x_train/255.0\n",
        "x_test = x_test/255.0\n",
        "# Plot image data from x_train\n",
        "plt.imshow(x_train[0], cmap = \"gray\")\n",
        "plt.show()"
      ]
    },
    {
      "cell_type": "code",
      "execution_count": 3,
      "metadata": {
        "colab": {
          "base_uri": "https://localhost:8080/"
        },
        "id": "nIuSsACWA7NC",
        "outputId": "24a7129a-944d-4620-8114-09cfd6bfa366"
      },
      "outputs": [
        {
          "data": {
            "text/plain": [
              "array([5, 0, 4, ..., 5, 6, 8], dtype=uint8)"
            ]
          },
          "execution_count": 3,
          "metadata": {},
          "output_type": "execute_result"
        }
      ],
      "source": [
        "y_train"
      ]
    },
    {
      "cell_type": "code",
      "execution_count": 4,
      "metadata": {
        "id": "-tm9gLzMDw6S"
      },
      "outputs": [],
      "source": [
        "LATENT_SIZE = 32\n",
        "encoder = Sequential([\n",
        "    Flatten(input_shape = (28, 28)),\n",
        "    Dense(512),\n",
        "    LR(),\n",
        "    Dropout(0.5),\n",
        "    Dense(256),\n",
        "    LR(),\n",
        "    Dropout(0.5),\n",
        "    Dense(128),\n",
        "    LR(),\n",
        "    Dropout(0.5),\n",
        "    Dense(64),\n",
        "    LR(),\n",
        "    Dropout(0.5),\n",
        "    Dense(LATENT_SIZE, activation=\"sigmoid\"),\n",
        "])"
      ]
    },
    {
      "cell_type": "code",
      "execution_count": 5,
      "metadata": {
        "id": "x8EF9fQXDzSW"
      },
      "outputs": [],
      "source": [
        "decoder = Sequential([\n",
        "    Dense(64, input_shape = (LATENT_SIZE,)),\n",
        "    LR(),\n",
        "    Dropout(0.5),\n",
        "    Dense(128),\n",
        "    LR(),\n",
        "    Dropout(0.5),\n",
        "    Dense(256),\n",
        "    LR(),\n",
        "    Dropout(0.5),\n",
        "    Dense(512),\n",
        "    LR(),\n",
        "    Dropout(0.5),\n",
        "    Dense(784),\n",
        "    Activation(\"sigmoid\"),\n",
        "    Reshape((28, 28))\n",
        "])"
      ]
    },
    {
      "cell_type": "code",
      "execution_count": 6,
      "metadata": {
        "id": "GOil9ltcD0si"
      },
      "outputs": [],
      "source": [
        "img = Input(shape = (28, 28))\n",
        "latent_vector = encoder(img)\n",
        "output = decoder(latent_vector)\n",
        "model = Model(inputs = img, outputs = output)\n",
        "model.compile(\"nadam\", loss = \"binary_crossentropy\")"
      ]
    },
    {
      "cell_type": "code",
      "execution_count": null,
      "metadata": {
        "colab": {
          "base_uri": "https://localhost:8080/",
          "height": 889
        },
        "id": "ewXzkdbPD3HL",
        "outputId": "f0e317e1-1e6a-4d26-e2f4-1ab8df1ff2c3"
      },
      "outputs": [],
      "source": [
        "EPOCHS = 1000\n",
        "#Only do plotting if you have IPython, Jupyter, or using Colab\n",
        "for epoch in range(EPOCHS):\n",
        "    fig, axs = plt.subplots(4, 4, figsize=(4,4))\n",
        "    rand = x_test[np.random.randint(0, 10000, 16)].reshape((4, 4, 1, 28, 28))\n",
        "    \n",
        "    display.clear_output() # If you imported display from IPython\n",
        "    \n",
        "    for i in range(4):\n",
        "        for j in range(4):\n",
        "            axs[i, j].imshow(model.predict(rand[i, j])[0], cmap = \"gray\")\n",
        "            axs[i, j].axis(\"off\")\n",
        "    \n",
        "    plt.subplots_adjust(wspace = 0, hspace = 0)\n",
        "    plt.show()\n",
        "    print(\"-----------\", \"EPOCH\", epoch, \"-----------\")\n",
        "    model.fit(x_train, x_train, batch_size = 64)"
      ]
    },
    {
      "cell_type": "code",
      "execution_count": null,
      "metadata": {
        "id": "lwbhv_yH3gRw"
      },
      "outputs": [],
      "source": []
    },
    {
      "cell_type": "code",
      "execution_count": 8,
      "metadata": {
        "id": "Pq-9HlEW3gUs"
      },
      "outputs": [],
      "source": [
        "from keras import backend as K\n",
        "from keras.models import Sequential, Model\n",
        "from keras.layers import Dense, Conv2D, MaxPooling2D, UpSampling2D, Flatten, Input, Reshape, Conv2DTranspose, BatchNormalization"
      ]
    },
    {
      "cell_type": "code",
      "execution_count": 9,
      "metadata": {
        "colab": {
          "base_uri": "https://localhost:8080/"
        },
        "id": "EJwa0DP13gXP",
        "outputId": "af6ba126-13c8-423f-fec6-e146f6bf136f"
      },
      "outputs": [
        {
          "name": "stdout",
          "output_type": "stream",
          "text": [
            "Model: \"model_2\"\n",
            "_________________________________________________________________\n",
            " Layer (type)                Output Shape              Param #   \n",
            "=================================================================\n",
            " input_2 (InputLayer)        [(None, 28, 28, 1)]       0         \n",
            "                                                                 \n",
            " conv2d (Conv2D)             (None, 26, 26, 32)        320       \n",
            "                                                                 \n",
            " max_pooling2d (MaxPooling2D  (None, 13, 13, 32)       0         \n",
            " )                                                               \n",
            "                                                                 \n",
            " conv2d_1 (Conv2D)           (None, 11, 11, 64)        18496     \n",
            "                                                                 \n",
            " max_pooling2d_1 (MaxPooling  (None, 5, 5, 64)         0         \n",
            " 2D)                                                             \n",
            "                                                                 \n",
            " conv2d_2 (Conv2D)           (None, 3, 3, 64)          36928     \n",
            "                                                                 \n",
            " flatten_1 (Flatten)         (None, 576)               0         \n",
            "                                                                 \n",
            " dense_10 (Dense)            (None, 49)                28273     \n",
            "                                                                 \n",
            " reshape_1 (Reshape)         (None, 7, 7, 1)           0         \n",
            "                                                                 \n",
            " conv2d_transpose (Conv2DTra  (None, 14, 14, 64)       640       \n",
            " nspose)                                                         \n",
            "                                                                 \n",
            " batch_normalization (BatchN  (None, 14, 14, 64)       256       \n",
            " ormalization)                                                   \n",
            "                                                                 \n",
            " conv2d_transpose_1 (Conv2DT  (None, 28, 28, 64)       36928     \n",
            " ranspose)                                                       \n",
            "                                                                 \n",
            " batch_normalization_1 (Batc  (None, 28, 28, 64)       256       \n",
            " hNormalization)                                                 \n",
            "                                                                 \n",
            " conv2d_transpose_2 (Conv2DT  (None, 28, 28, 32)       18464     \n",
            " ranspose)                                                       \n",
            "                                                                 \n",
            " conv2d_3 (Conv2D)           (None, 28, 28, 1)         289       \n",
            "                                                                 \n",
            "=================================================================\n",
            "Total params: 140,850\n",
            "Trainable params: 140,594\n",
            "Non-trainable params: 256\n",
            "_________________________________________________________________\n"
          ]
        }
      ],
      "source": [
        "inp = Input((28, 28,1))\n",
        "e = Conv2D(32, (3, 3), activation='relu')(inp)\n",
        "e = MaxPooling2D((2, 2))(e)\n",
        "e = Conv2D(64, (3, 3), activation='relu')(e)\n",
        "e = MaxPooling2D((2, 2))(e)\n",
        "e = Conv2D(64, (3, 3), activation='relu')(e)\n",
        "l = Flatten()(e)\n",
        "latent = Dense(49, activation='softmax')(l) #\n",
        "\n",
        "d = Reshape((7,7,1))(latent)\n",
        "d = Conv2DTranspose(64,(3, 3), strides=2, activation='relu', padding='same')(d)\n",
        "d = BatchNormalization()(d)\n",
        "d = Conv2DTranspose(64,(3, 3), strides=2, activation='relu', padding='same')(d)\n",
        "d = BatchNormalization()(d)\n",
        "d = Conv2DTranspose(32,(3, 3), activation='relu', padding='same')(d)\n",
        "decoded = Conv2D(1, (3, 3), activation='sigmoid', padding='same')(d)\n",
        "encoder = Model(inp, latent)\n",
        "autoencoder = Model(inp, decoded)\n",
        "autoencoder.summary()"
      ]
    },
    {
      "cell_type": "code",
      "execution_count": 10,
      "metadata": {
        "id": "c3_UqVcq3gZv"
      },
      "outputs": [],
      "source": [
        "autoencoder.compile(optimizer = 'adam', loss = 'mse')"
      ]
    },
    {
      "cell_type": "code",
      "execution_count": 11,
      "metadata": {
        "colab": {
          "base_uri": "https://localhost:8080/"
        },
        "id": "yv5B4dGf3geG",
        "outputId": "66748abe-74fd-41c7-82d4-5dc3c2139dd8"
      },
      "outputs": [
        {
          "name": "stdout",
          "output_type": "stream",
          "text": [
            "Epoch 1/5\n",
            "469/469 [==============================] - 170s 361ms/step - loss: 0.0263 - val_loss: 0.0866\n",
            "Epoch 2/5\n",
            "469/469 [==============================] - 170s 364ms/step - loss: 0.0117 - val_loss: 0.0105\n",
            "Epoch 3/5\n",
            "469/469 [==============================] - 173s 369ms/step - loss: 0.0101 - val_loss: 0.0097\n",
            "Epoch 4/5\n",
            "469/469 [==============================] - 173s 369ms/step - loss: 0.0092 - val_loss: 0.0171\n",
            "Epoch 5/5\n",
            "469/469 [==============================] - 167s 357ms/step - loss: 0.0086 - val_loss: 0.0112\n"
          ]
        },
        {
          "data": {
            "text/plain": [
              "<keras.callbacks.History at 0x228038adfd0>"
            ]
          },
          "execution_count": 11,
          "metadata": {},
          "output_type": "execute_result"
        }
      ],
      "source": [
        "autoencoder.fit(x_train, x_train,\n",
        "                epochs=5,\n",
        "                batch_size=128,\n",
        "                shuffle=True,\n",
        "                validation_data=(x_test, x_test))"
      ]
    },
    {
      "cell_type": "code",
      "execution_count": 12,
      "metadata": {
        "colab": {
          "base_uri": "https://localhost:8080/",
          "height": 265
        },
        "id": "LhD0c6PT3ggY",
        "outputId": "3e033dae-fcde-4a47-bcd5-576e76c388e1"
      },
      "outputs": [
        {
          "data": {
            "image/png": "[encoded data removed]",
            "text/plain": [
              "<Figure size 640x480 with 1 Axes>"
            ]
          },
          "metadata": {},
          "output_type": "display_data"
        }
      ],
      "source": [
        "image = x_test[3].reshape((28,28))\n",
        "plt.imshow(image)\n",
        "plt.gray()"
      ]
    },
    {
      "cell_type": "code",
      "execution_count": 13,
      "metadata": {
        "colab": {
          "base_uri": "https://localhost:8080/"
        },
        "id": "GVhYpdyb3gjD",
        "outputId": "eec9a669-b4df-4c7f-9212-bb9cbefac9ef"
      },
      "outputs": [
        {
          "name": "stdout",
          "output_type": "stream",
          "text": [
            "313/313 [==============================] - 8s 25ms/step\n"
          ]
        }
      ],
      "source": [
        "decoded_imgs = autoencoder.predict(x_test)"
      ]
    },
    {
      "cell_type": "code",
      "execution_count": 14,
      "metadata": {
        "colab": {
          "base_uri": "https://localhost:8080/"
        },
        "id": "Oxy80JIJ4y71",
        "outputId": "c1dff7b9-5c51-4bf6-c449-57c6a2c5214d"
      },
      "outputs": [
        {
          "data": {
            "text/plain": [
              "(10000, 28, 28, 1)"
            ]
          },
          "execution_count": 14,
          "metadata": {},
          "output_type": "execute_result"
        }
      ],
      "source": [
        "decoded_imgs.shape"
      ]
    },
    {
      "cell_type": "code",
      "execution_count": 15,
      "metadata": {
        "colab": {
          "base_uri": "https://localhost:8080/",
          "height": 265
        },
        "id": "ITqrR73W3gk9",
        "outputId": "793ca229-0661-4f26-cca8-7416b7bdaa01"
      },
      "outputs": [
        {
          "data": {
            "image/png": "[encoded data removed]",
            "text/plain": [
              "<Figure size 640x480 with 1 Axes>"
            ]
          },
          "metadata": {},
          "output_type": "display_data"
        }
      ],
      "source": [
        "test_img = decoded_imgs[3].reshape((28,28))\n",
        "plt.imshow(test_img)\n",
        "plt.gray()"
      ]
    },
    {
      "cell_type": "code",
      "execution_count": 16,
      "metadata": {
        "colab": {
          "base_uri": "https://localhost:8080/"
        },
        "id": "0H3AuxPw3gnE",
        "outputId": "aa9c8f21-0910-4ccd-a2da-da5c83809a80"
      },
      "outputs": [
        {
          "name": "stdout",
          "output_type": "stream",
          "text": [
            "1875/1875 [==============================] - 10s 5ms/step\n",
            "313/313 [==============================] - 1s 4ms/step\n"
          ]
        }
      ],
      "source": [
        "train_vectors = encoder.predict(x_train)\n",
        "test_vectors = encoder.predict(x_test)"
      ]
    },
    {
      "cell_type": "code",
      "execution_count": 17,
      "metadata": {
        "colab": {
          "base_uri": "https://localhost:8080/"
        },
        "id": "nEH37UY_5Dab",
        "outputId": "e1f29dea-bc37-4f18-d86c-26fc5c81bcd5"
      },
      "outputs": [
        {
          "data": {
            "text/plain": [
              "(60000, 49)"
            ]
          },
          "execution_count": 17,
          "metadata": {},
          "output_type": "execute_result"
        }
      ],
      "source": [
        "train_vectors.shape"
      ]
    },
    {
      "cell_type": "code",
      "execution_count": 18,
      "metadata": {},
      "outputs": [
        {
          "data": {
            "text/plain": [
              "array([0.02107845, 0.03005992, 0.03200901, 0.02597611, 0.02384833,\n",
              "       0.02097121, 0.02175434, 0.02609554, 0.01045236, 0.00832899,\n",
              "       0.0086065 , 0.00817321, 0.00899012, 0.02146853, 0.02398276,\n",
              "       0.0187969 , 0.01005867, 0.01492291, 0.02701253, 0.02790806,\n",
              "       0.02338811, 0.02509428, 0.03038602, 0.01270068, 0.01081897,\n",
              "       0.01214694, 0.02383695, 0.02405414, 0.01947514, 0.02537215,\n",
              "       0.02331444, 0.0141502 , 0.00638224, 0.0201191 , 0.0333176 ,\n",
              "       0.01796046, 0.01059938, 0.00598512, 0.01164213, 0.02567989,\n",
              "       0.0215751 , 0.01581553, 0.01536887, 0.01600289, 0.02284955,\n",
              "       0.03323378, 0.02491467, 0.01706176, 0.06625952], dtype=float32)"
            ]
          },
          "execution_count": 18,
          "metadata": {},
          "output_type": "execute_result"
        }
      ],
      "source": [
        "train_vectors[0]"
      ]
    },
    {
      "cell_type": "code",
      "execution_count": 19,
      "metadata": {
        "colab": {
          "base_uri": "https://localhost:8080/"
        },
        "id": "lYqq_kvX5Dcl",
        "outputId": "c11af22b-55fb-44ed-9855-a880604b59e2"
      },
      "outputs": [
        {
          "data": {
            "text/plain": [
              "SVC()"
            ]
          },
          "execution_count": 19,
          "metadata": {},
          "output_type": "execute_result"
        }
      ],
      "source": [
        "from sklearn.svm import SVC\n",
        "clf = SVC()\n",
        "clf.fit(train_vectors, y_train)"
      ]
    },
    {
      "cell_type": "code",
      "execution_count": 20,
      "metadata": {
        "id": "2Erk9JUc5Dez"
      },
      "outputs": [],
      "source": [
        "pred = clf.predict(test_vectors)"
      ]
    },
    {
      "cell_type": "code",
      "execution_count": 23,
      "metadata": {},
      "outputs": [
        {
          "data": {
            "text/plain": [
              "array([7, 2, 1, ..., 4, 5, 6], dtype=uint8)"
            ]
          },
          "execution_count": 23,
          "metadata": {},
          "output_type": "execute_result"
        }
      ],
      "source": [
        "pred"
      ]
    },
    {
      "cell_type": "code",
      "execution_count": 21,
      "metadata": {
        "colab": {
          "base_uri": "https://localhost:8080/"
        },
        "id": "SbbOrbSf3gpB",
        "outputId": "43b42668-b03d-41e8-bfd7-556b684797ce"
      },
      "outputs": [
        {
          "name": "stdout",
          "output_type": "stream",
          "text": [
            "accuracy score: 0.9785\n"
          ]
        }
      ],
      "source": [
        "from sklearn.metrics import accuracy_score\n",
        "print(f'accuracy score:',accuracy_score(y_test,pred))"
      ]
    },
    {
      "cell_type": "code",
      "execution_count": 22,
      "metadata": {
        "colab": {
          "base_uri": "https://localhost:8080/"
        },
        "id": "SZf0BTjb7IHm",
        "outputId": "355fab1a-1fde-44c5-fafc-c2f48e7c6786"
      },
      "outputs": [
        {
          "data": {
            "text/plain": [
              "(10000,)"
            ]
          },
          "execution_count": 22,
          "metadata": {},
          "output_type": "execute_result"
        }
      ],
      "source": [
        "y_test.shape"
      ]
    },
    {
      "cell_type": "code",
      "execution_count": 24,
      "metadata": {},
      "outputs": [
        {
          "data": {
            "text/plain": [
              "array([7, 2, 1, ..., 4, 5, 6], dtype=uint8)"
            ]
          },
          "execution_count": 24,
          "metadata": {},
          "output_type": "execute_result"
        }
      ],
      "source": [
        "y_test"
      ]
    }
  ],
  "metadata": {
    "accelerator": "GPU",
    "colab": {
      "collapsed_sections": [],
      "provenance": []
    },
    "gpuClass": "standard",
    "kernelspec": {
      "display_name": "Python 3",
      "name": "python3"
    },
    "language_info": {
      "codemirror_mode": {
        "name": "ipython",
        "version": 3
      },
      "file_extension": ".py",
      "mimetype": "text/x-python",
      "name": "python",
      "nbconvert_exporter": "python",
      "pygments_lexer": "ipython3",
      "version": "3.9.13"
    }
  },
  "nbformat": 4,
  "nbformat_minor": 0
}
